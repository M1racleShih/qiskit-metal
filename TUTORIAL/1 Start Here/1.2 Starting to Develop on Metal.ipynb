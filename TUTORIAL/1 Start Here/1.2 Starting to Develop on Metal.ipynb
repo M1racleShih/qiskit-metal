{
 "cells": [
  {
   "cell_type": "markdown",
   "metadata": {},
   "source": [
    "For convenience, let's begin by enabling [automatic reloading of modules](https://ipython.readthedocs.io/en/stable/config/extensions/autoreload.html?highlight=autoreload) when they change."
   ]
  },
  {
   "cell_type": "code",
   "execution_count": 2,
   "metadata": {},
   "outputs": [],
   "source": [
    "%load_ext autoreload\n",
    "%autoreload 2"
   ]
  },
  {
   "cell_type": "markdown",
   "metadata": {},
   "source": [
    "## Import Qiskit Metal"
   ]
  },
  {
   "cell_type": "code",
   "execution_count": 3,
   "metadata": {},
   "outputs": [
    {
     "data": {
      "text/html": [
       "\n",
       "    <h1 style=\"\n",
       "        background: #12c2e9;  /* fallback for old browsers */\n",
       "        background: -webkit-linear-gradient(to right, #d4418e 0%, #0652c5 74%);  /* Chrome 10-25, Safari 5.1-6 */\n",
       "        background: linear-gradient(315deg, #d4418e 0%, #0652c5 74%); /* W3C, IE 10+/ Edge, Firefox 16+, Chrome 26+, Opera 12+, Safari 7+ */\n",
       "        margin-top: 50px;\n",
       "        border-style: outset;\n",
       "        padding-top:100px;\n",
       "        padding-bottom:50px;\n",
       "        padding-left:25px;\n",
       "        color: white;\n",
       "    \"> Welcome to Qiskit Metal! <h1>\n",
       "        "
      ],
      "text/plain": [
       "<IPython.core.display.HTML object>"
      ]
     },
     "metadata": {},
     "output_type": "display_data"
    }
   ],
   "source": [
    "import qiskit_metal as metal\n",
    "from qiskit_metal import designs, draw\n",
    "from qiskit_metal import MetalGUI, Dict, open_docs\n",
    "\n",
    "%metal_heading Welcome to Qiskit Metal!"
   ]
  },
  {
   "cell_type": "markdown",
   "metadata": {},
   "source": [
    "## How You Create a Chip"
   ]
  },
  {
   "cell_type": "markdown",
   "metadata": {},
   "source": [
    "###### Step 1. You choose a base design class from Metal's QLibrary"
   ]
  },
  {
   "cell_type": "markdown",
   "metadata": {},
   "source": [
    "###### Step 2. You add/modify pre-built components (qubits, coplanar wave guides, etc.) from the QComponent library to your design. "
   ]
  },
  {
   "cell_type": "markdown",
   "metadata": {},
   "source": [
    "###### Step 2.5 (Or, [create your own components](../3%20QComponent%20Designer/3.1%20Creating%20a%20QComponent%20-%20Basic.ipynb) )"
   ]
  },
  {
   "cell_type": "markdown",
   "metadata": {},
   "source": [
    "###### Step 3. You then render to Simulate & Analyze \n",
    "    * Current Rendering Options:\n",
    "        * Ansys \n",
    "            * HFSS Renderer - for high frequency simulations (eigenmode, modal, terminal)\n",
    "                * EPR Analysis - Uses eigenmode simulation to perform energy participation ratio analysis\n",
    "            * Q3D Renderer - for extracting equivalent circuit values of a layout, such as capacitance\n",
    "                * LOM Analysis - Uses the capacitance matrix from Q3D to determine the parameters of a transmon qubit\n",
    "            \n",
    "            \n",
    "            \n",
    "###### Step 4.  You finally render for Fabrication\n",
    "    * Current Rendering Options:\n",
    "        * GDS \n",
    "        \n",
    "\n",
    "\n",
    "###### This tutorial is for steps 1 & 2"
   ]
  },
  {
   "cell_type": "code",
   "execution_count": null,
   "metadata": {},
   "outputs": [],
   "source": [
    "you now have a workflow"
   ]
  },
  {
   "cell_type": "markdown",
   "metadata": {},
   "source": [
    "## Creating Your First Design\n",
    "Each time you create a new quantum circuit design, you start by instantiating a QDesign class. This design object will hold all your components (Qubits, Coplanar Wave Guides, etc.)\n",
    "\n",
    "_Do not instantiate the `QDesign` class directly - only use subclasses like `DesignPlanar`_\n"
   ]
  },
  {
   "cell_type": "markdown",
   "metadata": {},
   "source": [
    "## My First Quantum Design (QDesign)"
   ]
  },
  {
   "cell_type": "markdown",
   "metadata": {},
   "source": [
    "Choose a design.\n",
    "We will start with the simple planar QDesign for our 2D chip"
   ]
  },
  {
   "cell_type": "code",
   "execution_count": null,
   "metadata": {},
   "outputs": [],
   "source": [
    "design = designs.DesignPlanar()"
   ]
  },
  {
   "cell_type": "markdown",
   "metadata": {},
   "source": [
    "Launch Qiskit Metal GUI to interactively view, edit, and simulate QDesign: Metal GUI"
   ]
  },
  {
   "cell_type": "code",
   "execution_count": null,
   "metadata": {},
   "outputs": [],
   "source": [
    "gui = MetalGUI(design)"
   ]
  },
  {
   "cell_type": "code",
   "execution_count": null,
   "metadata": {},
   "outputs": [],
   "source": [
    "%metal_heading Hello Quantum World!"
   ]
  },
  {
   "cell_type": "markdown",
   "metadata": {},
   "source": [
    "## My First Quantum Component (QComponent)\n",
    "### A transmon qubit\n",
    "You can create a ready-made transmon qubit from the QComponent Library, `qiskit_metal.components.qubits`. \n",
    "`transmon_pocket.py` is the file containing our qubit so `transmon_pocket` is the module we import. \n",
    "The `TransmonPocket` class is our transmon qubit. Like all quantum components, `TransmonPocket` inherits from `QComponent` \n",
    "\n",
    "* Let's create a new qubit by creating an object of this class. "
   ]
  },
  {
   "cell_type": "code",
   "execution_count": null,
   "metadata": {},
   "outputs": [],
   "source": [
    "# Select a QComponent to create (The QComponent is a python class named `TransmonPocket`)\n",
    "from qiskit_metal.components.qubits.transmon_pocket import TransmonPocket\n",
    "\n",
    "\n",
    "q1 = TransmonPocket(design, 'Q1', options=dict(connection_pads=dict(a=dict()))) # Create a new Transmon Pocket object with name 'Q1' \n",
    "gui.rebuild()  # rebuild the design and plot \n",
    "\n",
    "gui.edit_component('Q1') # set Q1 as the editable component \n",
    "gui.autoscale() #resize GUI to see QComponent"
   ]
  },
  {
   "cell_type": "markdown",
   "metadata": {},
   "source": [
    "Let's see what the Q1 object looks like"
   ]
  },
  {
   "cell_type": "code",
   "execution_count": null,
   "metadata": {},
   "outputs": [],
   "source": [
    "q1 #print Q1 information"
   ]
  },
  {
   "cell_type": "markdown",
   "metadata": {},
   "source": [
    "#### What are the default options?\n",
    "The QComponent comes with some default options like the length of the pads for our transmon pocket.\n",
    "* Options are parsed internally by Qiskit Metal via the component's `make` function. \n",
    "* You can change option parameters from the gui or the script api. "
   ]
  },
  {
   "cell_type": "code",
   "execution_count": null,
   "metadata": {},
   "outputs": [],
   "source": [
    "%metal_print How do I edit options?  API or GUI"
   ]
  },
  {
   "cell_type": "markdown",
   "metadata": {},
   "source": [
    "You can now use the Metal GUI to edit, plot, and modify quantum components.\n",
    "Equivalently, you can also do everything from the Jupyter Notebooks/Python scripts (which call the Python API directly).\n",
    "The GUI is just calling the Python API for you.\n",
    "\n",
    "*You must use a string when setting options!"
   ]
  },
  {
   "cell_type": "code",
   "execution_count": null,
   "metadata": {},
   "outputs": [],
   "source": [
    "# Change options\n",
    "q1.options.pos_x = '0.5 mm'\n",
    "q1.options.pos_y = '0.25 mm'\n",
    "q1.options.pad_height = '225 um'\n",
    "q1.options.pad_width  = '250 um'\n",
    "q1.options.pad_gap    = '50 um'\n",
    "\n",
    "gui.rebuild() # Update the component geoemtry, since we changed the options\n",
    "gui.autoscale() #resize GUI \n"
   ]
  },
  {
   "cell_type": "markdown",
   "metadata": {},
   "source": [
    "## Closing the Qiskit Metal GUI"
   ]
  },
  {
   "cell_type": "code",
   "execution_count": null,
   "metadata": {},
   "outputs": [],
   "source": [
    "gui.main_window.close()"
   ]
  },
  {
   "cell_type": "code",
   "execution_count": null,
   "metadata": {},
   "outputs": [],
   "source": []
  }
 ],
 "metadata": {
  "kernelspec": {
   "display_name": "grace_metal",
   "language": "python",
   "name": "grace_metal"
  },
  "language_info": {
   "codemirror_mode": {
    "name": "ipython",
    "version": 3
   },
   "file_extension": ".py",
   "mimetype": "text/x-python",
   "name": "python",
   "nbconvert_exporter": "python",
   "pygments_lexer": "ipython3",
   "version": "3.7.8"
  }
 },
 "nbformat": 4,
 "nbformat_minor": 4
}
